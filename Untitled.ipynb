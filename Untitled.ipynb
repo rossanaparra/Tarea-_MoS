{
 "cells": [
  {
   "cell_type": "markdown",
   "id": "f62050da",
   "metadata": {},
   "source": [
    "## Tarea Rossana Parra_Map of science"
   ]
  },
  {
   "cell_type": "code",
   "execution_count": 1,
   "id": "d3ec8aa6",
   "metadata": {},
   "outputs": [],
   "source": [
    "import re\n",
    "import csv\n",
    "import pandas as pd\n",
    "import openpyxl\n",
    "from pathlib import Path"
   ]
  },
  {
   "cell_type": "code",
   "execution_count": null,
   "id": "6098bd61",
   "metadata": {},
   "outputs": [],
   "source": []
  }
 ],
 "metadata": {
  "kernelspec": {
   "display_name": "Python 3 (ipykernel)",
   "language": "python",
   "name": "python3"
  },
  "language_info": {
   "codemirror_mode": {
    "name": "ipython",
    "version": 3
   },
   "file_extension": ".py",
   "mimetype": "text/x-python",
   "name": "python",
   "nbconvert_exporter": "python",
   "pygments_lexer": "ipython3",
   "version": "3.9.7"
  }
 },
 "nbformat": 4,
 "nbformat_minor": 5
}
